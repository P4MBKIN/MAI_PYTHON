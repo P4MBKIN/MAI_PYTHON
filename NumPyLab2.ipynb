{
 "cells": [
  {
   "cell_type": "markdown",
   "metadata": {},
   "source": [
    "# Антонов Павел - Вторая лаба по NumPy"
   ]
  },
  {
   "cell_type": "markdown",
   "metadata": {},
   "source": [
    "### Импортировать NumPy под именем np"
   ]
  },
  {
   "cell_type": "code",
   "execution_count": 84,
   "metadata": {},
   "outputs": [],
   "source": [
    "import numpy as np"
   ]
  },
  {
   "cell_type": "markdown",
   "metadata": {},
   "source": [
    "### Перемножить матрицы 5x3 и 3x2"
   ]
  },
  {
   "cell_type": "code",
   "execution_count": 85,
   "metadata": {},
   "outputs": [
    {
     "data": {
      "text/plain": [
       "array([[ 10,  13],\n",
       "       [ 28,  40],\n",
       "       [ 46,  67],\n",
       "       [ 64,  94],\n",
       "       [ 82, 121]])"
      ]
     },
     "execution_count": 85,
     "metadata": {},
     "output_type": "execute_result"
    }
   ],
   "source": [
    "first_matrix = np.arange(15).reshape((5, 3))\n",
    "second_matrix = np.arange(6).reshape((3, 2))\n",
    "np.dot(first_matrix, second_matrix)"
   ]
  },
  {
   "cell_type": "markdown",
   "metadata": {},
   "source": [
    "### Дан массив, поменять знак у элементов, значения которых между 3 и 8"
   ]
  },
  {
   "cell_type": "code",
   "execution_count": 86,
   "metadata": {},
   "outputs": [
    {
     "data": {
      "text/plain": [
       "array([ 0,  1,  2, -3, -4, -5, -6, -7, -8,  9])"
      ]
     },
     "execution_count": 86,
     "metadata": {},
     "output_type": "execute_result"
    }
   ],
   "source": [
    "vec = np.arange(10)\n",
    "vec[(vec >= 3) & (vec <= 8)] *= -1\n",
    "vec"
   ]
  },
  {
   "cell_type": "markdown",
   "metadata": {},
   "source": [
    "### Создать 5x5 матрицу со значениями в строках от 0 до 4"
   ]
  },
  {
   "cell_type": "code",
   "execution_count": 87,
   "metadata": {},
   "outputs": [
    {
     "data": {
      "text/plain": [
       "array([[0, 1, 2, 3, 4],\n",
       "       [0, 1, 2, 3, 4],\n",
       "       [0, 1, 2, 3, 4],\n",
       "       [0, 1, 2, 3, 4],\n",
       "       [0, 1, 2, 3, 4]])"
      ]
     },
     "execution_count": 87,
     "metadata": {},
     "output_type": "execute_result"
    }
   ],
   "source": [
    "vec = np.arange(5)\n",
    "np.tile(vec, (5,1))"
   ]
  },
  {
   "cell_type": "markdown",
   "metadata": {},
   "source": [
    "### Есть генератор, сделать с его помощью массив"
   ]
  },
  {
   "cell_type": "code",
   "execution_count": 88,
   "metadata": {},
   "outputs": [
    {
     "data": {
      "text/plain": [
       "array([ 0,  1,  4,  9, 16])"
      ]
     },
     "execution_count": 88,
     "metadata": {},
     "output_type": "execute_result"
    }
   ],
   "source": [
    "iterable = (x*x for x in range(5))\n",
    "np.fromiter(iterable, int)"
   ]
  },
  {
   "cell_type": "markdown",
   "metadata": {},
   "source": [
    "### Создать вектор размера 10 со значениями от 0 до 1, не включая ни то, ни другое"
   ]
  },
  {
   "cell_type": "code",
   "execution_count": 89,
   "metadata": {},
   "outputs": [
    {
     "data": {
      "text/plain": [
       "array([0.09090909, 0.18181818, 0.27272727, 0.36363636, 0.45454545,\n",
       "       0.54545455, 0.63636364, 0.72727273, 0.81818182, 0.90909091])"
      ]
     },
     "execution_count": 89,
     "metadata": {},
     "output_type": "execute_result"
    }
   ],
   "source": [
    "np.linspace(0, 1, 12)[1:11]"
   ]
  },
  {
   "cell_type": "markdown",
   "metadata": {},
   "source": [
    "### Отсортировать вектор"
   ]
  },
  {
   "cell_type": "code",
   "execution_count": 90,
   "metadata": {},
   "outputs": [
    {
     "data": {
      "text/plain": [
       "array([0.20026157, 0.2052672 , 0.30398673, 0.52324143, 0.70933556])"
      ]
     },
     "execution_count": 90,
     "metadata": {},
     "output_type": "execute_result"
    }
   ],
   "source": [
    "vec = np.random.random((1,5))[0]\n",
    "vec.sort()\n",
    "vec"
   ]
  },
  {
   "cell_type": "markdown",
   "metadata": {},
   "source": [
    "### Проверить, одинаковы ли 2 numpy массива"
   ]
  },
  {
   "cell_type": "code",
   "execution_count": 91,
   "metadata": {},
   "outputs": [
    {
     "data": {
      "text/plain": [
       "True"
      ]
     },
     "execution_count": 91,
     "metadata": {},
     "output_type": "execute_result"
    }
   ],
   "source": [
    "np.array_equal(np.arange(5), np.arange(5))"
   ]
  },
  {
   "cell_type": "markdown",
   "metadata": {},
   "source": [
    "### Сделать массив неизменяемым"
   ]
  },
  {
   "cell_type": "code",
   "execution_count": 92,
   "metadata": {},
   "outputs": [],
   "source": [
    "vec = np.arange(5)\n",
    "vec.flags.writeable = False"
   ]
  },
  {
   "cell_type": "markdown",
   "metadata": {},
   "source": [
    "### Дан массив 10x2 (точки в декартовой системе координат), преобразовать в полярную"
   ]
  },
  {
   "cell_type": "code",
   "execution_count": 93,
   "metadata": {},
   "outputs": [
    {
     "data": {
      "text/plain": [
       "array([[0.57162138, 0.84084543, 0.56134705, 0.71117773, 0.2554298 ,\n",
       "        0.30513824, 0.55980507, 0.53975727, 0.99905489, 0.43109204],\n",
       "       [0.06821379, 0.20741371, 1.11440676, 1.5626668 , 0.55917229,\n",
       "        1.02483197, 0.04104247, 0.55802466, 0.51351751, 1.39099737]])"
      ]
     },
     "execution_count": 93,
     "metadata": {},
     "output_type": "execute_result"
    }
   ],
   "source": [
    "vec = np.random.random((10, 2))\n",
    "x, y = vec[:,0], vec[:,1]\n",
    "np.array([np.sqrt(x**2 + y**2), np.arctan2(y, x)])"
   ]
  },
  {
   "cell_type": "markdown",
   "metadata": {},
   "source": [
    "### Заменить максимальный элемент на ноль"
   ]
  },
  {
   "cell_type": "code",
   "execution_count": 94,
   "metadata": {},
   "outputs": [
    {
     "data": {
      "text/plain": [
       "array([0, 1, 2, 3, 0])"
      ]
     },
     "execution_count": 94,
     "metadata": {},
     "output_type": "execute_result"
    }
   ],
   "source": [
    "vec = np.arange(5)\n",
    "vec[vec.argmax()] = 0\n",
    "vec"
   ]
  },
  {
   "cell_type": "markdown",
   "metadata": {},
   "source": [
    "### Создать структурированный массив с координатами x, y на сетке в квадрате [0,1]x[0,1]"
   ]
  },
  {
   "cell_type": "code",
   "execution_count": 95,
   "metadata": {},
   "outputs": [
    {
     "data": {
      "text/plain": [
       "array([[[0.  , 0.  ],\n",
       "        [0.25, 0.  ],\n",
       "        [0.5 , 0.  ],\n",
       "        [0.75, 0.  ],\n",
       "        [1.  , 0.  ]],\n",
       "\n",
       "       [[0.  , 0.25],\n",
       "        [0.25, 0.25],\n",
       "        [0.5 , 0.25],\n",
       "        [0.75, 0.25],\n",
       "        [1.  , 0.25]],\n",
       "\n",
       "       [[0.  , 0.5 ],\n",
       "        [0.25, 0.5 ],\n",
       "        [0.5 , 0.5 ],\n",
       "        [0.75, 0.5 ],\n",
       "        [1.  , 0.5 ]],\n",
       "\n",
       "       [[0.  , 0.75],\n",
       "        [0.25, 0.75],\n",
       "        [0.5 , 0.75],\n",
       "        [0.75, 0.75],\n",
       "        [1.  , 0.75]],\n",
       "\n",
       "       [[0.  , 1.  ],\n",
       "        [0.25, 1.  ],\n",
       "        [0.5 , 1.  ],\n",
       "        [0.75, 1.  ],\n",
       "        [1.  , 1.  ]]])"
      ]
     },
     "execution_count": 95,
     "metadata": {},
     "output_type": "execute_result"
    }
   ],
   "source": [
    "x, y = np.meshgrid(np.linspace(0, 1, 5), np.linspace(0, 1, 5))\n",
    "result = np.column_stack((x.ravel(), y.ravel()))\n",
    "result.reshape(1, 50).reshape(5, 5, 2)"
   ]
  },
  {
   "cell_type": "markdown",
   "metadata": {},
   "source": [
    "### Из двух массивов сделать матрицу Коши C (Cij = 1/(xi - yj))"
   ]
  },
  {
   "cell_type": "code",
   "execution_count": 96,
   "metadata": {},
   "outputs": [
    {
     "data": {
      "text/plain": [
       "array([[0.5       , 0.44444444, 0.4       , 0.36363636, 0.33333333],\n",
       "       [0.57142857, 0.5       , 0.44444444, 0.4       , 0.36363636],\n",
       "       [0.66666667, 0.57142857, 0.5       , 0.44444444, 0.4       ],\n",
       "       [0.8       , 0.66666667, 0.57142857, 0.5       , 0.44444444],\n",
       "       [1.        , 0.8       , 0.66666667, 0.57142857, 0.5       ]])"
      ]
     },
     "execution_count": 96,
     "metadata": {},
     "output_type": "execute_result"
    }
   ],
   "source": [
    "x, y = np.meshgrid(np.linspace(2, 3, 5), np.linspace(0, 1, 5), indexing=\"xy\")\n",
    "result = 1 / (x - y)\n",
    "result"
   ]
  },
  {
   "cell_type": "markdown",
   "metadata": {},
   "source": [
    "### Найти минимальное и максимальное значение, принимаемое каждым числовым типом numpy"
   ]
  },
  {
   "cell_type": "code",
   "execution_count": 97,
   "metadata": {},
   "outputs": [
    {
     "name": "stdout",
     "output_type": "stream",
     "text": [
      "Название <class 'numpy.uint32'> MIN: 0 MAX: 4294967295\n",
      "Название <class 'numpy.uint64'> MIN: 0 MAX: 18446744073709551615\n",
      "Название <class 'numpy.uint16'> MIN: 0 MAX: 65535\n",
      "Название <class 'numpy.uint32'> MIN: 0 MAX: 4294967295\n",
      "Название <class 'numpy.uint64'> MIN: 0 MAX: 18446744073709551615\n",
      "Название <class 'numpy.uint8'> MIN: 0 MAX: 255\n",
      "Название <class 'numpy.uintc'> MIN: 0 MAX: 4294967295\n",
      "Название <class 'numpy.uint64'> MIN: 0 MAX: 18446744073709551615\n",
      "Название <class 'int'> MIN: -2147483648 MAX: 2147483647\n",
      "Название <class 'numpy.int64'> MIN: -9223372036854775808 MAX: 9223372036854775807\n",
      "Название <class 'numpy.int16'> MIN: -32768 MAX: 32767\n",
      "Название <class 'numpy.int32'> MIN: -2147483648 MAX: 2147483647\n",
      "Название <class 'numpy.int64'> MIN: -9223372036854775808 MAX: 9223372036854775807\n",
      "Название <class 'numpy.int8'> MIN: -128 MAX: 127\n",
      "Название <class 'numpy.intc'> MIN: -2147483648 MAX: 2147483647\n",
      "Название <class 'numpy.integer'> MIN: -2147483648 MAX: 2147483647\n",
      "Название <class 'numpy.int64'> MIN: -9223372036854775808 MAX: 9223372036854775807\n",
      "Название <class 'float'> MIN: -1.7976931348623157e+308 MAX: 2.220446049250313e-16\n",
      "Название <class 'numpy.float16'> MIN: -65500.0 MAX: 0.000977\n",
      "Название <class 'numpy.float32'> MIN: -3.4028235e+38 MAX: 1.1920929e-07\n",
      "Название <class 'numpy.float64'> MIN: -1.7976931348623157e+308 MAX: 2.220446049250313e-16\n"
     ]
    }
   ],
   "source": [
    "np_ints = [np.uint, np.uint0, np.uint16, np.uint32, np.uint64, np.uint8, np.uintc, np.uintp, np.int, np.int0, np.int16, np.int32, np.int64, np.int8, np.intc, np.integer, np.intp]\n",
    "np_floats = [np.float, np.float16, np.float32, np.float64]\n",
    "\n",
    "for type_int in np_ints:\n",
    "    type_info = np.iinfo(type_int)\n",
    "    print(\"Название\", type_int, \"MIN:\", type_info.min, \"MAX:\", type_info.max)\n",
    "\n",
    "for type_float in np_floats:\n",
    "    type_info = np.finfo(type_float)\n",
    "    print(\"Название\", type_float, \"MIN:\", type_info.min, \"MAX:\", type_info.eps)"
   ]
  },
  {
   "cell_type": "markdown",
   "metadata": {},
   "source": [
    "### Напечатать все значения в массиве"
   ]
  },
  {
   "cell_type": "code",
   "execution_count": 98,
   "metadata": {},
   "outputs": [
    {
     "name": "stdout",
     "output_type": "stream",
     "text": [
      "0\n",
      "1\n",
      "2\n",
      "3\n",
      "4\n"
     ]
    }
   ],
   "source": [
    "vec = np.arange(5)\n",
    "for tmp in vec:\n",
    "    print(tmp)"
   ]
  },
  {
   "cell_type": "markdown",
   "metadata": {},
   "source": [
    "### Найти ближайшее к заданному значению число в заданном массиве"
   ]
  },
  {
   "cell_type": "code",
   "execution_count": 99,
   "metadata": {},
   "outputs": [
    {
     "data": {
      "text/plain": [
       "6"
      ]
     },
     "execution_count": 99,
     "metadata": {},
     "output_type": "execute_result"
    }
   ],
   "source": [
    "tmp = 5.6\n",
    "vec = np.arange(10)\n",
    "vec[(np.abs(vec - tmp)).argmin()]"
   ]
  },
  {
   "cell_type": "markdown",
   "metadata": {},
   "source": [
    "### Создать структурированный массив, представляющий координату (x,y) и цвет (r,g,b)"
   ]
  },
  {
   "cell_type": "code",
   "execution_count": 100,
   "metadata": {},
   "outputs": [
    {
     "data": {
      "text/plain": [
       "[((0.0, 0.0), (0.0, 0.0, 0.0)),\n",
       " ((0.0, 0.0), (0.0, 0.0, 127.5)),\n",
       " ((0.0, 0.0), (0.0, 0.0, 255.0)),\n",
       " ((0.5, 0.0), (127.5, 0.0, 0.0)),\n",
       " ((0.5, 0.0), (127.5, 0.0, 127.5)),\n",
       " ((0.5, 0.0), (127.5, 0.0, 255.0)),\n",
       " ((1.0, 0.0), (255.0, 0.0, 0.0)),\n",
       " ((1.0, 0.0), (255.0, 0.0, 127.5)),\n",
       " ((1.0, 0.0), (255.0, 0.0, 255.0)),\n",
       " ((0.0, 0.5), (0.0, 127.5, 0.0)),\n",
       " ((0.0, 0.5), (0.0, 127.5, 127.5)),\n",
       " ((0.0, 0.5), (0.0, 127.5, 255.0)),\n",
       " ((0.5, 0.5), (127.5, 127.5, 0.0)),\n",
       " ((0.5, 0.5), (127.5, 127.5, 127.5)),\n",
       " ((0.5, 0.5), (127.5, 127.5, 255.0)),\n",
       " ((1.0, 0.5), (255.0, 127.5, 0.0)),\n",
       " ((1.0, 0.5), (255.0, 127.5, 127.5)),\n",
       " ((1.0, 0.5), (255.0, 127.5, 255.0)),\n",
       " ((0.0, 1.0), (0.0, 255.0, 0.0)),\n",
       " ((0.0, 1.0), (0.0, 255.0, 127.5)),\n",
       " ((0.0, 1.0), (0.0, 255.0, 255.0)),\n",
       " ((0.5, 1.0), (127.5, 255.0, 0.0)),\n",
       " ((0.5, 1.0), (127.5, 255.0, 127.5)),\n",
       " ((0.5, 1.0), (127.5, 255.0, 255.0)),\n",
       " ((1.0, 1.0), (255.0, 255.0, 0.0)),\n",
       " ((1.0, 1.0), (255.0, 255.0, 127.5)),\n",
       " ((1.0, 1.0), (255.0, 255.0, 255.0))]"
      ]
     },
     "execution_count": 100,
     "metadata": {},
     "output_type": "execute_result"
    }
   ],
   "source": [
    "x, y = np.meshgrid(np.linspace(0, 1, 3), np.linspace(0, 1, 3), indexing=\"xy\")\n",
    "x_y_array = np.column_stack((x.ravel(), y.ravel()))\n",
    "new_x_y_array = []\n",
    "for i in x_y_array:\n",
    "    new_x_y_array.append(tuple(i))\n",
    "    new_x_y_array.append(tuple(i))\n",
    "    new_x_y_array.append(tuple(i))\n",
    "\n",
    "r, g, b = np.meshgrid(np.linspace(0, 255, 3), np.linspace(0, 255, 3), np.linspace(0, 255, 3))\n",
    "r_g_b_array = np.column_stack((r.ravel(), g.ravel(), b.ravel()))\n",
    "new_color = []\n",
    "for i in r_g_b_array:\n",
    "    new_color.append(tuple(i))\n",
    "\n",
    "result = []\n",
    "for i in range(len(new_x_y_array)):\n",
    "    result.append((new_x_y_array[i], new_color[i]))\n",
    "\n",
    "result"
   ]
  },
  {
   "cell_type": "markdown",
   "metadata": {},
   "source": [
    "### Дан массив (100,2) координат, найти расстояние от каждой точки до каждой"
   ]
  },
  {
   "cell_type": "code",
   "execution_count": 101,
   "metadata": {},
   "outputs": [
    {
     "data": {
      "text/plain": [
       "array([[0.        , 0.66655724, 0.60425187, ..., 0.34352604, 0.48520325,\n",
       "        0.20331632],\n",
       "       [0.66655724, 0.        , 0.26525676, ..., 0.32339063, 0.32452158,\n",
       "        0.6809359 ],\n",
       "       [0.60425187, 0.26525676, 0.        , ..., 0.31172561, 0.47963453,\n",
       "        0.6968593 ],\n",
       "       ...,\n",
       "       [0.34352604, 0.32339063, 0.31172561, ..., 0.        , 0.24986061,\n",
       "        0.39047285],\n",
       "       [0.48520325, 0.32452158, 0.47963453, ..., 0.24986061, 0.        ,\n",
       "        0.41490492],\n",
       "       [0.20331632, 0.6809359 , 0.6968593 , ..., 0.39047285, 0.41490492,\n",
       "        0.        ]])"
      ]
     },
     "execution_count": 101,
     "metadata": {},
     "output_type": "execute_result"
    }
   ],
   "source": [
    "coordinates = np.random.random((100, 2))\n",
    "result = np.zeros((100, 100))\n",
    "for i in range(100):\n",
    "    for j in range(100):\n",
    "        result[i][j] = np.linalg.norm(np.abs(coordinates[i] - coordinates[j]))\n",
    "result"
   ]
  },
  {
   "cell_type": "markdown",
   "metadata": {},
   "source": [
    "### Преобразовать массив из float в int"
   ]
  },
  {
   "cell_type": "code",
   "execution_count": 102,
   "metadata": {},
   "outputs": [
    {
     "data": {
      "text/plain": [
       "array([0, 0, 0, 0, 0, 0, 0, 0, 0, 0])"
      ]
     },
     "execution_count": 102,
     "metadata": {},
     "output_type": "execute_result"
    }
   ],
   "source": [
    "np.random.random(10).astype(np.int)"
   ]
  },
  {
   "cell_type": "markdown",
   "metadata": {},
   "source": [
    "### Дан файл: Как прочитать его?"
   ]
  },
  {
   "cell_type": "code",
   "execution_count": 103,
   "metadata": {},
   "outputs": [],
   "source": [
    "#np.genfromtxt('./file.txt', delimiter = ',')"
   ]
  },
  {
   "cell_type": "markdown",
   "metadata": {},
   "source": [
    "### Каков эквивалент функции enumerate для numpy массивов?"
   ]
  },
  {
   "cell_type": "code",
   "execution_count": 104,
   "metadata": {},
   "outputs": [],
   "source": [
    "#np.ndenumerate"
   ]
  },
  {
   "cell_type": "markdown",
   "metadata": {},
   "source": [
    "### Сформировать 2D массив с распределением Гаусса"
   ]
  },
  {
   "cell_type": "code",
   "execution_count": 105,
   "metadata": {},
   "outputs": [
    {
     "data": {
      "text/plain": [
       "array([[ 1.18307563, -0.4538487 ,  0.0157256 , -0.51701216, -0.38387257],\n",
       "       [ 2.22564319,  1.7004324 ,  0.33019354,  0.20362456,  0.0342908 ],\n",
       "       [ 0.71772918, -0.42550352, -0.39437332,  0.95949787, -0.32840276],\n",
       "       [ 0.80713843,  1.20914889, -1.50204587, -1.2399746 ,  0.39631987],\n",
       "       [ 0.35526131,  0.76113596, -1.80797518,  0.6053287 ,  0.3502076 ]])"
      ]
     },
     "execution_count": 105,
     "metadata": {},
     "output_type": "execute_result"
    }
   ],
   "source": [
    "np.random.normal(size=(5, 5))"
   ]
  },
  {
   "cell_type": "markdown",
   "metadata": {},
   "source": [
    "### Случайно расположить p элементов в 2D массив"
   ]
  },
  {
   "cell_type": "code",
   "execution_count": 106,
   "metadata": {},
   "outputs": [
    {
     "data": {
      "text/plain": [
       "array([[ 0.,  0., -1.,  0.,  0.],\n",
       "       [ 0.,  0.,  0.,  0.,  0.],\n",
       "       [-1.,  0., -1., -1.,  0.],\n",
       "       [ 0.,  0., -1.,  0.,  0.],\n",
       "       [-1., -1., -1., -1., -1.]])"
      ]
     },
     "execution_count": 106,
     "metadata": {},
     "output_type": "execute_result"
    }
   ],
   "source": [
    "result = np.zeros((5,5))\n",
    "np.put(result, np.random.choice(range(25), 10, replace=False), -1)\n",
    "result"
   ]
  },
  {
   "cell_type": "markdown",
   "metadata": {},
   "source": [
    "### Отнять среднее из каждой строки в матрице"
   ]
  },
  {
   "cell_type": "code",
   "execution_count": 107,
   "metadata": {},
   "outputs": [
    {
     "data": {
      "text/plain": [
       "array([[ -3.,  -9., -15., -21., -27., -33., -39.],\n",
       "       [  4.,  -2.,  -8., -14., -20., -26., -32.],\n",
       "       [ 11.,   5.,  -1.,  -7., -13., -19., -25.],\n",
       "       [ 18.,  12.,   6.,   0.,  -6., -12., -18.],\n",
       "       [ 25.,  19.,  13.,   7.,   1.,  -5., -11.],\n",
       "       [ 32.,  26.,  20.,  14.,   8.,   2.,  -4.],\n",
       "       [ 39.,  33.,  27.,  21.,  15.,   9.,   3.]])"
      ]
     },
     "execution_count": 107,
     "metadata": {},
     "output_type": "execute_result"
    }
   ],
   "source": [
    "result = np.arange(49).reshape(7, 7)\n",
    "result = result - result.mean(axis=1)\n",
    "result"
   ]
  },
  {
   "cell_type": "markdown",
   "metadata": {},
   "source": [
    "### Отсортировать матрицу по n-ому столбцу"
   ]
  },
  {
   "cell_type": "code",
   "execution_count": 108,
   "metadata": {},
   "outputs": [
    {
     "data": {
      "text/plain": [
       "array([[ 0,  1,  2,  3,  4,  5,  6],\n",
       "       [ 7,  8,  9, 10, 11, 12, 13],\n",
       "       [14, 15, 16, 17, 18, 19, 20],\n",
       "       [21, 22, 23, 24, 25, 26, 27],\n",
       "       [28, 29, 30, 31, 32, 33, 34],\n",
       "       [35, 36, 37, 38, 39, 40, 41],\n",
       "       [42, 43, 44, 45, 46, 47, 48]])"
      ]
     },
     "execution_count": 108,
     "metadata": {},
     "output_type": "execute_result"
    }
   ],
   "source": [
    "result = np.arange(49).reshape(7, 7)[::-1]\n",
    "result[result[:,2].argsort()]"
   ]
  },
  {
   "cell_type": "markdown",
   "metadata": {},
   "source": [
    "### Определить, есть ли в 2D массиве нулевые столбцы"
   ]
  },
  {
   "cell_type": "code",
   "execution_count": 109,
   "metadata": {},
   "outputs": [],
   "source": [
    "#np.all((result == 0), axis=1)"
   ]
  },
  {
   "cell_type": "markdown",
   "metadata": {},
   "source": [
    "### Дан массив, добавить 1 к каждому элементу с индексом, заданным в другом массиве (осторожно с повторами)"
   ]
  },
  {
   "cell_type": "code",
   "execution_count": 110,
   "metadata": {},
   "outputs": [
    {
     "data": {
      "text/plain": [
       "array([2., 2., 2., 2., 2., 2., 2., 2., 2., 2.])"
      ]
     },
     "execution_count": 110,
     "metadata": {},
     "output_type": "execute_result"
    }
   ],
   "source": [
    "a = np.ones(10)\n",
    "b = np.arange(10)\n",
    "for i in b:\n",
    "    a[i] += 1\n",
    "a"
   ]
  },
  {
   "cell_type": "markdown",
   "metadata": {},
   "source": [
    "### Дан массив (w,h,3) (картинка) dtype=ubyte, посчитать количество различных цветов"
   ]
  },
  {
   "cell_type": "code",
   "execution_count": 111,
   "metadata": {},
   "outputs": [],
   "source": [
    "#np.unique(array, axis=0)"
   ]
  },
  {
   "cell_type": "markdown",
   "metadata": {},
   "source": [
    "### Дан четырехмерный массив, посчитать сумму по последним двум осям"
   ]
  },
  {
   "cell_type": "code",
   "execution_count": 112,
   "metadata": {},
   "outputs": [
    {
     "data": {
      "text/plain": [
       "array([[127, 145, 152, 165, 161, 183],\n",
       "       [168, 161, 152, 165, 135, 142],\n",
       "       [150, 171, 153, 125, 167, 168],\n",
       "       [159, 170, 152, 184, 101, 158],\n",
       "       [162, 142, 134, 169, 164, 176],\n",
       "       [178, 146, 150, 150, 160, 191]])"
      ]
     },
     "execution_count": 112,
     "metadata": {},
     "output_type": "execute_result"
    }
   ],
   "source": [
    "array = np.random.randint(0,10, (6,6,6,6))\n",
    "result = array.reshape(array.shape[:-2] + (-1,)).sum(axis=-1)\n",
    "result"
   ]
  },
  {
   "cell_type": "markdown",
   "metadata": {},
   "source": [
    "### Найти диагональные элементы произведения матриц"
   ]
  },
  {
   "cell_type": "code",
   "execution_count": 113,
   "metadata": {},
   "outputs": [
    {
     "data": {
      "text/plain": [
       "array([1.71942466, 0.76974954, 1.98191042, 1.65375099, 2.15491822,\n",
       "       1.46686111])"
      ]
     },
     "execution_count": 113,
     "metadata": {},
     "output_type": "execute_result"
    }
   ],
   "source": [
    "first = np.random.random((6, 6))\n",
    "second = np.random.random((6, 6))\n",
    "np.diag(np.dot(first, second))"
   ]
  },
  {
   "cell_type": "code",
   "execution_count": null,
   "metadata": {},
   "outputs": [],
   "source": []
  }
 ],
 "metadata": {
  "kernelspec": {
   "display_name": "Python 3",
   "language": "python",
   "name": "python3"
  },
  "language_info": {
   "codemirror_mode": {
    "name": "ipython",
    "version": 3
   },
   "file_extension": ".py",
   "mimetype": "text/x-python",
   "name": "python",
   "nbconvert_exporter": "python",
   "pygments_lexer": "ipython3",
   "version": "3.8.3"
  }
 },
 "nbformat": 4,
 "nbformat_minor": 4
}
