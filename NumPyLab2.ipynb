{
 "cells": [
  {
   "cell_type": "markdown",
   "metadata": {},
   "source": [
    "# Антонов Павел - Вторая лаба по NumPy"
   ]
  },
  {
   "cell_type": "markdown",
   "metadata": {},
   "source": [
    "### Импортировать NumPy под именем np"
   ]
  },
  {
   "cell_type": "code",
   "execution_count": 1,
   "metadata": {},
   "outputs": [],
   "source": [
    "import numpy as np"
   ]
  },
  {
   "cell_type": "markdown",
   "metadata": {},
   "source": [
    "### Перемножить матрицы 5x3 и 3x2"
   ]
  },
  {
   "cell_type": "code",
   "execution_count": 2,
   "metadata": {},
   "outputs": [
    {
     "data": {
      "text/plain": [
       "array([[ 10,  13],\n",
       "       [ 28,  40],\n",
       "       [ 46,  67],\n",
       "       [ 64,  94],\n",
       "       [ 82, 121]])"
      ]
     },
     "execution_count": 2,
     "metadata": {},
     "output_type": "execute_result"
    }
   ],
   "source": [
    "first_matrix = np.arange(15).reshape((5, 3))\n",
    "second_matrix = np.arange(6).reshape((3, 2))\n",
    "np.dot(first_matrix, second_matrix)"
   ]
  },
  {
   "cell_type": "markdown",
   "metadata": {},
   "source": [
    "### Дан массив, поменять знак у элементов, значения которых между 3 и 8"
   ]
  },
  {
   "cell_type": "code",
   "execution_count": 3,
   "metadata": {},
   "outputs": [
    {
     "data": {
      "text/plain": [
       "array([ 0,  1,  2, -3, -4, -5, -6, -7, -8,  9])"
      ]
     },
     "execution_count": 3,
     "metadata": {},
     "output_type": "execute_result"
    }
   ],
   "source": [
    "vec = np.arange(10)\n",
    "vec[(vec >= 3) & (vec <= 8)] *= -1\n",
    "vec"
   ]
  },
  {
   "cell_type": "markdown",
   "metadata": {},
   "source": [
    "### Создать 5x5 матрицу со значениями в строках от 0 до 4"
   ]
  },
  {
   "cell_type": "code",
   "execution_count": 4,
   "metadata": {},
   "outputs": [
    {
     "data": {
      "text/plain": [
       "array([[0, 1, 2, 3, 4],\n",
       "       [0, 1, 2, 3, 4],\n",
       "       [0, 1, 2, 3, 4],\n",
       "       [0, 1, 2, 3, 4],\n",
       "       [0, 1, 2, 3, 4]])"
      ]
     },
     "execution_count": 4,
     "metadata": {},
     "output_type": "execute_result"
    }
   ],
   "source": [
    "vec = np.arange(5)\n",
    "np.tile(vec, (5,1))"
   ]
  },
  {
   "cell_type": "markdown",
   "metadata": {},
   "source": [
    "### Есть генератор, сделать с его помощью массив"
   ]
  },
  {
   "cell_type": "code",
   "execution_count": 5,
   "metadata": {},
   "outputs": [
    {
     "data": {
      "text/plain": [
       "array([ 0,  1,  4,  9, 16])"
      ]
     },
     "execution_count": 5,
     "metadata": {},
     "output_type": "execute_result"
    }
   ],
   "source": [
    "iterable = (x*x for x in range(5))\n",
    "np.fromiter(iterable, int)"
   ]
  },
  {
   "cell_type": "markdown",
   "metadata": {},
   "source": [
    "### Создать вектор размера 10 со значениями от 0 до 1, не включая ни то, ни другое"
   ]
  },
  {
   "cell_type": "code",
   "execution_count": 6,
   "metadata": {},
   "outputs": [
    {
     "data": {
      "text/plain": [
       "array([0.09090909, 0.18181818, 0.27272727, 0.36363636, 0.45454545,\n",
       "       0.54545455, 0.63636364, 0.72727273, 0.81818182, 0.90909091])"
      ]
     },
     "execution_count": 6,
     "metadata": {},
     "output_type": "execute_result"
    }
   ],
   "source": [
    "np.linspace(0, 1, 12)[1:11]"
   ]
  },
  {
   "cell_type": "markdown",
   "metadata": {},
   "source": [
    "### Отсортировать вектор"
   ]
  },
  {
   "cell_type": "code",
   "execution_count": 7,
   "metadata": {},
   "outputs": [
    {
     "data": {
      "text/plain": [
       "array([0.53576269, 0.59668531, 0.7483004 , 0.77757902, 0.80430067])"
      ]
     },
     "execution_count": 7,
     "metadata": {},
     "output_type": "execute_result"
    }
   ],
   "source": [
    "vec = np.random.random((1,5))[0]\n",
    "vec.sort()\n",
    "vec"
   ]
  },
  {
   "cell_type": "markdown",
   "metadata": {},
   "source": [
    "### Проверить, одинаковы ли 2 numpy массива"
   ]
  },
  {
   "cell_type": "code",
   "execution_count": 8,
   "metadata": {},
   "outputs": [
    {
     "data": {
      "text/plain": [
       "True"
      ]
     },
     "execution_count": 8,
     "metadata": {},
     "output_type": "execute_result"
    }
   ],
   "source": [
    "np.array_equal(np.arange(5), np.arange(5))"
   ]
  },
  {
   "cell_type": "markdown",
   "metadata": {},
   "source": [
    "### Сделать массив неизменяемым"
   ]
  },
  {
   "cell_type": "code",
   "execution_count": 9,
   "metadata": {},
   "outputs": [],
   "source": [
    "vec = np.arange(5)\n",
    "vec.flags.writeable = False"
   ]
  },
  {
   "cell_type": "markdown",
   "metadata": {},
   "source": [
    "### Дан массив 10x2 (точки в декартовой системе координат), преобразовать в полярную"
   ]
  },
  {
   "cell_type": "code",
   "execution_count": 10,
   "metadata": {},
   "outputs": [
    {
     "data": {
      "text/plain": [
       "array([[0.46098064, 0.55932929, 0.74525894, 0.55229304, 0.95459847,\n",
       "        0.69005686, 0.25622856, 1.15942887, 0.77143127, 0.59280041],\n",
       "       [0.70004373, 0.94927164, 1.13588405, 0.6024556 , 0.85005717,\n",
       "        0.8210135 , 0.49123196, 0.66530432, 1.51244361, 0.37829585]])"
      ]
     },
     "execution_count": 10,
     "metadata": {},
     "output_type": "execute_result"
    }
   ],
   "source": [
    "vec = np.random.random((10, 2))\n",
    "x, y = vec[:,0], vec[:,1]\n",
    "np.array([np.sqrt(x**2 + y**2), np.arctan2(y, x)])"
   ]
  },
  {
   "cell_type": "markdown",
   "metadata": {},
   "source": [
    "### Заменить максимальный элемент на ноль"
   ]
  },
  {
   "cell_type": "code",
   "execution_count": 11,
   "metadata": {},
   "outputs": [
    {
     "data": {
      "text/plain": [
       "array([0, 1, 2, 3, 0])"
      ]
     },
     "execution_count": 11,
     "metadata": {},
     "output_type": "execute_result"
    }
   ],
   "source": [
    "vec = np.arange(5)\n",
    "vec[vec.argmax()] = 0\n",
    "vec"
   ]
  },
  {
   "cell_type": "markdown",
   "metadata": {},
   "source": [
    "### Создать структурированный массив с координатами x, y на сетке в квадрате [0,1]x[0,1]"
   ]
  },
  {
   "cell_type": "code",
   "execution_count": 12,
   "metadata": {},
   "outputs": [
    {
     "data": {
      "text/plain": [
       "array([[[0.  , 0.  ],\n",
       "        [0.25, 0.  ],\n",
       "        [0.5 , 0.  ],\n",
       "        [0.75, 0.  ],\n",
       "        [1.  , 0.  ]],\n",
       "\n",
       "       [[0.  , 0.25],\n",
       "        [0.25, 0.25],\n",
       "        [0.5 , 0.25],\n",
       "        [0.75, 0.25],\n",
       "        [1.  , 0.25]],\n",
       "\n",
       "       [[0.  , 0.5 ],\n",
       "        [0.25, 0.5 ],\n",
       "        [0.5 , 0.5 ],\n",
       "        [0.75, 0.5 ],\n",
       "        [1.  , 0.5 ]],\n",
       "\n",
       "       [[0.  , 0.75],\n",
       "        [0.25, 0.75],\n",
       "        [0.5 , 0.75],\n",
       "        [0.75, 0.75],\n",
       "        [1.  , 0.75]],\n",
       "\n",
       "       [[0.  , 1.  ],\n",
       "        [0.25, 1.  ],\n",
       "        [0.5 , 1.  ],\n",
       "        [0.75, 1.  ],\n",
       "        [1.  , 1.  ]]])"
      ]
     },
     "execution_count": 12,
     "metadata": {},
     "output_type": "execute_result"
    }
   ],
   "source": [
    "x, y = np.meshgrid(np.linspace(0, 1, 5), np.linspace(0, 1, 5))\n",
    "result = np.column_stack((x.ravel(), y.ravel()))\n",
    "result.reshape(1, 50).reshape(5, 5, 2)"
   ]
  },
  {
   "cell_type": "markdown",
   "metadata": {},
   "source": [
    "### Из двух массивов сделать матрицу Коши C (Cij = 1/(xi - yj))"
   ]
  },
  {
   "cell_type": "code",
   "execution_count": 13,
   "metadata": {},
   "outputs": [
    {
     "data": {
      "text/plain": [
       "array([[0.5       , 0.44444444, 0.4       , 0.36363636, 0.33333333],\n",
       "       [0.57142857, 0.5       , 0.44444444, 0.4       , 0.36363636],\n",
       "       [0.66666667, 0.57142857, 0.5       , 0.44444444, 0.4       ],\n",
       "       [0.8       , 0.66666667, 0.57142857, 0.5       , 0.44444444],\n",
       "       [1.        , 0.8       , 0.66666667, 0.57142857, 0.5       ]])"
      ]
     },
     "execution_count": 13,
     "metadata": {},
     "output_type": "execute_result"
    }
   ],
   "source": [
    "x, y = np.meshgrid(np.linspace(2, 3, 5), np.linspace(0, 1, 5), indexing=\"xy\")\n",
    "result = 1 / (x - y)\n",
    "result"
   ]
  },
  {
   "cell_type": "markdown",
   "metadata": {},
   "source": [
    "### Найти минимальное и максимальное значение, принимаемое каждым числовым типом numpy"
   ]
  },
  {
   "cell_type": "code",
   "execution_count": 14,
   "metadata": {},
   "outputs": [
    {
     "name": "stdout",
     "output_type": "stream",
     "text": [
      "Название <class 'numpy.uint32'> MIN: 0 MAX: 4294967295\n",
      "Название <class 'numpy.uint64'> MIN: 0 MAX: 18446744073709551615\n",
      "Название <class 'numpy.uint16'> MIN: 0 MAX: 65535\n",
      "Название <class 'numpy.uint32'> MIN: 0 MAX: 4294967295\n",
      "Название <class 'numpy.uint64'> MIN: 0 MAX: 18446744073709551615\n",
      "Название <class 'numpy.uint8'> MIN: 0 MAX: 255\n",
      "Название <class 'numpy.uintc'> MIN: 0 MAX: 4294967295\n",
      "Название <class 'numpy.uint64'> MIN: 0 MAX: 18446744073709551615\n",
      "Название <class 'int'> MIN: -2147483648 MAX: 2147483647\n",
      "Название <class 'numpy.int64'> MIN: -9223372036854775808 MAX: 9223372036854775807\n",
      "Название <class 'numpy.int16'> MIN: -32768 MAX: 32767\n",
      "Название <class 'numpy.int32'> MIN: -2147483648 MAX: 2147483647\n",
      "Название <class 'numpy.int64'> MIN: -9223372036854775808 MAX: 9223372036854775807\n",
      "Название <class 'numpy.int8'> MIN: -128 MAX: 127\n",
      "Название <class 'numpy.intc'> MIN: -2147483648 MAX: 2147483647\n",
      "Название <class 'numpy.integer'> MIN: -2147483648 MAX: 2147483647\n",
      "Название <class 'numpy.int64'> MIN: -9223372036854775808 MAX: 9223372036854775807\n",
      "Название <class 'float'> MIN: -1.7976931348623157e+308 MAX: 2.220446049250313e-16\n",
      "Название <class 'numpy.float16'> MIN: -65500.0 MAX: 0.000977\n",
      "Название <class 'numpy.float32'> MIN: -3.4028235e+38 MAX: 1.1920929e-07\n",
      "Название <class 'numpy.float64'> MIN: -1.7976931348623157e+308 MAX: 2.220446049250313e-16\n"
     ]
    }
   ],
   "source": [
    "np_ints = [np.uint, np.uint0, np.uint16, np.uint32, np.uint64, np.uint8, np.uintc, np.uintp, np.int, np.int0, np.int16, np.int32, np.int64, np.int8, np.intc, np.integer, np.intp]\n",
    "np_floats = [np.float, np.float16, np.float32, np.float64]\n",
    "\n",
    "for type_int in np_ints:\n",
    "    type_info = np.iinfo(type_int)\n",
    "    print(\"Название\", type_int, \"MIN:\", type_info.min, \"MAX:\", type_info.max)\n",
    "\n",
    "for type_float in np_floats:\n",
    "    type_info = np.finfo(type_float)\n",
    "    print(\"Название\", type_float, \"MIN:\", type_info.min, \"MAX:\", type_info.eps)"
   ]
  },
  {
   "cell_type": "markdown",
   "metadata": {},
   "source": [
    "### Напечатать все значения в массиве"
   ]
  },
  {
   "cell_type": "code",
   "execution_count": 15,
   "metadata": {},
   "outputs": [
    {
     "name": "stdout",
     "output_type": "stream",
     "text": [
      "0\n",
      "1\n",
      "2\n",
      "3\n",
      "4\n"
     ]
    }
   ],
   "source": [
    "vec = np.arange(5)\n",
    "for tmp in vec:\n",
    "    print(tmp)"
   ]
  },
  {
   "cell_type": "markdown",
   "metadata": {},
   "source": [
    "### Найти ближайшее к заданному значению число в заданном массиве"
   ]
  },
  {
   "cell_type": "code",
   "execution_count": 16,
   "metadata": {},
   "outputs": [
    {
     "data": {
      "text/plain": [
       "6"
      ]
     },
     "execution_count": 16,
     "metadata": {},
     "output_type": "execute_result"
    }
   ],
   "source": [
    "tmp = 5.6\n",
    "vec = np.arange(10)\n",
    "vec[(np.abs(vec - tmp)).argmin()]"
   ]
  },
  {
   "cell_type": "markdown",
   "metadata": {},
   "source": [
    "### Создать структурированный массив, представляющий координату (x,y) и цвет (r,g,b)"
   ]
  },
  {
   "cell_type": "code",
   "execution_count": 31,
   "metadata": {},
   "outputs": [
    {
     "data": {
      "text/plain": [
       "array([((0., 0.), (0, 0, 0)), ((0., 0.), (0, 0, 0)),\n",
       "       ((0., 0.), (0, 0, 0)), ((0., 0.), (0, 0, 0)),\n",
       "       ((0., 0.), (0, 0, 0)), ((0., 0.), (0, 0, 0)),\n",
       "       ((0., 0.), (0, 0, 0)), ((0., 0.), (0, 0, 0)),\n",
       "       ((0., 0.), (0, 0, 0)), ((0., 0.), (0, 0, 0))],\n",
       "      dtype=[('coordinate', [('x', '<f8'), ('y', '<f8')]), ('color', [('r', 'u1'), ('g', 'u1'), ('b', 'u1')])])"
      ]
     },
     "execution_count": 31,
     "metadata": {},
     "output_type": "execute_result"
    }
   ],
   "source": [
    "result = np.zeros(10, [('coordinate', [('x', np.float), ('y', np.float)]), ('color', [('r', np.uint8), ('g', np.uint8), ('b', np.uint8)])])\n",
    "result"
   ]
  },
  {
   "cell_type": "markdown",
   "metadata": {},
   "source": [
    "### Дан массив (100,2) координат, найти расстояние от каждой точки до каждой"
   ]
  },
  {
   "cell_type": "code",
   "execution_count": 18,
   "metadata": {},
   "outputs": [
    {
     "data": {
      "text/plain": [
       "array([[0.        , 0.35640328, 0.47051102, ..., 0.26476723, 0.88134996,\n",
       "        0.78966017],\n",
       "       [0.35640328, 0.        , 0.28876637, ..., 0.10875534, 0.61048054,\n",
       "        0.53062076],\n",
       "       [0.47051102, 0.28876637, 0.        , ..., 0.3566009 , 0.84592544,\n",
       "        0.32230879],\n",
       "       ...,\n",
       "       [0.26476723, 0.10875534, 0.3566009 , ..., 0.        , 0.64201335,\n",
       "        0.62884176],\n",
       "       [0.88134996, 0.61048054, 0.84592544, ..., 0.64201335, 0.        ,\n",
       "        0.91148772],\n",
       "       [0.78966017, 0.53062076, 0.32230879, ..., 0.62884176, 0.91148772,\n",
       "        0.        ]])"
      ]
     },
     "execution_count": 18,
     "metadata": {},
     "output_type": "execute_result"
    }
   ],
   "source": [
    "coordinates = np.random.random((100, 2))\n",
    "result = np.zeros((100, 100))\n",
    "for i in range(100):\n",
    "    for j in range(100):\n",
    "        result[i][j] = np.linalg.norm(np.abs(coordinates[i] - coordinates[j]))\n",
    "result"
   ]
  },
  {
   "cell_type": "markdown",
   "metadata": {},
   "source": [
    "### Преобразовать массив из float в int"
   ]
  },
  {
   "cell_type": "code",
   "execution_count": 19,
   "metadata": {},
   "outputs": [
    {
     "data": {
      "text/plain": [
       "array([0, 0, 0, 0, 0, 0, 0, 0, 0, 0])"
      ]
     },
     "execution_count": 19,
     "metadata": {},
     "output_type": "execute_result"
    }
   ],
   "source": [
    "np.random.random(10).astype(np.int)"
   ]
  },
  {
   "cell_type": "markdown",
   "metadata": {},
   "source": [
    "### Дан файл: Как прочитать его?"
   ]
  },
  {
   "cell_type": "code",
   "execution_count": 34,
   "metadata": {},
   "outputs": [
    {
     "data": {
      "text/plain": [
       "array([ 1.,  1.,  1.,  1.,  1., nan,  5.])"
      ]
     },
     "execution_count": 34,
     "metadata": {},
     "output_type": "execute_result"
    }
   ],
   "source": [
    "with open('./test.txt', 'w') as out:\n",
    "    out.write(\"1 1 1 1 1  5\")\n",
    "\n",
    "np.genfromtxt('./test.txt', delimiter=' ')"
   ]
  },
  {
   "cell_type": "markdown",
   "metadata": {},
   "source": [
    "### Каков эквивалент функции enumerate для numpy массивов?"
   ]
  },
  {
   "cell_type": "code",
   "execution_count": 36,
   "metadata": {},
   "outputs": [
    {
     "data": {
      "text/plain": [
       "[((0,), 0.0), ((1,), 0.0), ((2,), 0.0), ((3,), 0.0), ((4,), 0.0)]"
      ]
     },
     "execution_count": 36,
     "metadata": {},
     "output_type": "execute_result"
    }
   ],
   "source": [
    "list(np.ndenumerate(np.zeros(5)))"
   ]
  },
  {
   "cell_type": "markdown",
   "metadata": {},
   "source": [
    "### Сформировать 2D массив с распределением Гаусса"
   ]
  },
  {
   "cell_type": "code",
   "execution_count": 22,
   "metadata": {},
   "outputs": [
    {
     "data": {
      "text/plain": [
       "array([[ 0.85845947,  0.47214939, -0.76999715,  0.741486  , -1.05711751],\n",
       "       [ 0.11435129, -0.03998564, -0.64501975, -0.25239448,  1.16912741],\n",
       "       [-0.71322811, -2.2712283 ,  0.45698071,  1.5749901 , -0.27126837],\n",
       "       [ 0.08754235, -0.25815814,  0.8671849 ,  1.38545942,  1.14590753],\n",
       "       [ 0.56399059, -0.38198709,  0.92780232,  1.04344073, -2.21604227]])"
      ]
     },
     "execution_count": 22,
     "metadata": {},
     "output_type": "execute_result"
    }
   ],
   "source": [
    "np.random.normal(size=(5, 5))"
   ]
  },
  {
   "cell_type": "markdown",
   "metadata": {},
   "source": [
    "### Случайно расположить p элементов в 2D массив"
   ]
  },
  {
   "cell_type": "code",
   "execution_count": 23,
   "metadata": {},
   "outputs": [
    {
     "data": {
      "text/plain": [
       "array([[-1.,  0., -1., -1.,  0.],\n",
       "       [ 0., -1.,  0.,  0.,  0.],\n",
       "       [ 0., -1.,  0.,  0., -1.],\n",
       "       [-1., -1.,  0., -1.,  0.],\n",
       "       [ 0.,  0.,  0.,  0., -1.]])"
      ]
     },
     "execution_count": 23,
     "metadata": {},
     "output_type": "execute_result"
    }
   ],
   "source": [
    "result = np.zeros((5,5))\n",
    "np.put(result, np.random.choice(range(25), 10, replace=False), -1)\n",
    "result"
   ]
  },
  {
   "cell_type": "markdown",
   "metadata": {},
   "source": [
    "### Отнять среднее из каждой строки в матрице"
   ]
  },
  {
   "cell_type": "code",
   "execution_count": 24,
   "metadata": {},
   "outputs": [
    {
     "data": {
      "text/plain": [
       "array([[ -3.,  -9., -15., -21., -27., -33., -39.],\n",
       "       [  4.,  -2.,  -8., -14., -20., -26., -32.],\n",
       "       [ 11.,   5.,  -1.,  -7., -13., -19., -25.],\n",
       "       [ 18.,  12.,   6.,   0.,  -6., -12., -18.],\n",
       "       [ 25.,  19.,  13.,   7.,   1.,  -5., -11.],\n",
       "       [ 32.,  26.,  20.,  14.,   8.,   2.,  -4.],\n",
       "       [ 39.,  33.,  27.,  21.,  15.,   9.,   3.]])"
      ]
     },
     "execution_count": 24,
     "metadata": {},
     "output_type": "execute_result"
    }
   ],
   "source": [
    "result = np.arange(49).reshape(7, 7)\n",
    "result = result - result.mean(axis=1)\n",
    "result"
   ]
  },
  {
   "cell_type": "markdown",
   "metadata": {},
   "source": [
    "### Отсортировать матрицу по n-ому столбцу"
   ]
  },
  {
   "cell_type": "code",
   "execution_count": 25,
   "metadata": {},
   "outputs": [
    {
     "data": {
      "text/plain": [
       "array([[ 0,  1,  2,  3,  4,  5,  6],\n",
       "       [ 7,  8,  9, 10, 11, 12, 13],\n",
       "       [14, 15, 16, 17, 18, 19, 20],\n",
       "       [21, 22, 23, 24, 25, 26, 27],\n",
       "       [28, 29, 30, 31, 32, 33, 34],\n",
       "       [35, 36, 37, 38, 39, 40, 41],\n",
       "       [42, 43, 44, 45, 46, 47, 48]])"
      ]
     },
     "execution_count": 25,
     "metadata": {},
     "output_type": "execute_result"
    }
   ],
   "source": [
    "result = np.arange(49).reshape(7, 7)[::-1]\n",
    "result[result[:,2].argsort()]"
   ]
  },
  {
   "cell_type": "markdown",
   "metadata": {},
   "source": [
    "### Определить, есть ли в 2D массиве нулевые столбцы"
   ]
  },
  {
   "cell_type": "code",
   "execution_count": 40,
   "metadata": {},
   "outputs": [
    {
     "data": {
      "text/plain": [
       "array([False,  True, False])"
      ]
     },
     "execution_count": 40,
     "metadata": {},
     "output_type": "execute_result"
    }
   ],
   "source": [
    "result = np.array([[0, 0, 2], [1, 0, 3]])\n",
    "np.all((result == 0), axis=0)"
   ]
  },
  {
   "cell_type": "markdown",
   "metadata": {},
   "source": [
    "### Дан массив, добавить 1 к каждому элементу с индексом, заданным в другом массиве (осторожно с повторами)"
   ]
  },
  {
   "cell_type": "code",
   "execution_count": 27,
   "metadata": {},
   "outputs": [
    {
     "data": {
      "text/plain": [
       "array([2., 2., 2., 2., 2., 2., 2., 2., 2., 2.])"
      ]
     },
     "execution_count": 27,
     "metadata": {},
     "output_type": "execute_result"
    }
   ],
   "source": [
    "a = np.ones(10)\n",
    "b = np.arange(10)\n",
    "for i in b:\n",
    "    a[i] += 1\n",
    "a\n",
    "# или bincount"
   ]
  },
  {
   "cell_type": "markdown",
   "metadata": {},
   "source": [
    "### Дан массив (w,h,3) (картинка) dtype=ubyte, посчитать количество различных цветов"
   ]
  },
  {
   "cell_type": "code",
   "execution_count": 54,
   "metadata": {},
   "outputs": [
    {
     "data": {
      "text/plain": [
       "9996"
      ]
     },
     "execution_count": 54,
     "metadata": {},
     "output_type": "execute_result"
    }
   ],
   "source": [
    "vector = np.random.randint(0, 256, (100, 100, 3)).astype(np.ubyte)\n",
    "result = vector.reshape((10000, 3))\n",
    "len(np.unique(result, axis=0))"
   ]
  },
  {
   "cell_type": "markdown",
   "metadata": {},
   "source": [
    "### Дан четырехмерный массив, посчитать сумму по последним двум осям"
   ]
  },
  {
   "cell_type": "code",
   "execution_count": 55,
   "metadata": {},
   "outputs": [
    {
     "name": "stdout",
     "output_type": "stream",
     "text": [
      "(6, 6, -1)\n"
     ]
    },
    {
     "data": {
      "text/plain": [
       "array([[149, 166, 147, 142, 163, 174],\n",
       "       [130, 146, 140, 147, 150, 184],\n",
       "       [188, 154, 170, 160, 149, 185],\n",
       "       [144, 172, 145, 154, 164, 169],\n",
       "       [173, 188, 151, 169, 158, 177],\n",
       "       [172, 181, 173, 157, 155, 153]])"
      ]
     },
     "execution_count": 55,
     "metadata": {},
     "output_type": "execute_result"
    }
   ],
   "source": [
    "array = np.random.randint(0,10, (6,6,6,6))\n",
    "result = array.reshape(array.shape[:-2] + (-1,)).sum(axis=-1)\n",
    "result"
   ]
  },
  {
   "cell_type": "markdown",
   "metadata": {},
   "source": [
    "### Найти диагональные элементы произведения матриц"
   ]
  },
  {
   "cell_type": "code",
   "execution_count": 30,
   "metadata": {},
   "outputs": [
    {
     "data": {
      "text/plain": [
       "array([1.3189164 , 0.94249794, 1.12809457, 1.99416144, 3.15800941,\n",
       "       1.51656322])"
      ]
     },
     "execution_count": 30,
     "metadata": {},
     "output_type": "execute_result"
    }
   ],
   "source": [
    "first = np.random.random((6, 6))\n",
    "second = np.random.random((6, 6))\n",
    "np.diag(np.dot(first, second))"
   ]
  },
  {
   "cell_type": "code",
   "execution_count": null,
   "metadata": {},
   "outputs": [],
   "source": []
  }
 ],
 "metadata": {
  "kernelspec": {
   "display_name": "Python 3",
   "language": "python",
   "name": "python3"
  },
  "language_info": {
   "codemirror_mode": {
    "name": "ipython",
    "version": 3
   },
   "file_extension": ".py",
   "mimetype": "text/x-python",
   "name": "python",
   "nbconvert_exporter": "python",
   "pygments_lexer": "ipython3",
   "version": "3.8.3"
  }
 },
 "nbformat": 4,
 "nbformat_minor": 4
}
