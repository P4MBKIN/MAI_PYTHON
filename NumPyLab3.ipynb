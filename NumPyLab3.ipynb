{
 "cells": [
  {
   "cell_type": "markdown",
   "metadata": {},
   "source": [
    "# Антонов Павел - Третья лаба по NumPy"
   ]
  },
  {
   "cell_type": "markdown",
   "metadata": {},
   "source": [
    "### Импортировать NumPy под именем np"
   ]
  },
  {
   "cell_type": "code",
   "execution_count": 2,
   "metadata": {},
   "outputs": [],
   "source": [
    "import numpy as np"
   ]
  },
  {
   "cell_type": "markdown",
   "metadata": {},
   "source": [
    "### Дан вектор [1, 2, 3, 4, 5], построить новый вектор с тремя нулями между каждым значением"
   ]
  },
  {
   "cell_type": "code",
   "execution_count": 3,
   "metadata": {},
   "outputs": [
    {
     "data": {
      "text/plain": [
       "array([1., 0., 0., 0., 2., 0., 0., 0., 3., 0., 0., 0., 4., 0., 0., 0., 5.])"
      ]
     },
     "execution_count": 3,
     "metadata": {},
     "output_type": "execute_result"
    }
   ],
   "source": [
    "original_array = np.array([1,2,3,4,5])\n",
    "result = np.zeros(17)\n",
    "result[::4] = original_array\n",
    "result"
   ]
  },
  {
   "cell_type": "markdown",
   "metadata": {},
   "source": [
    "### Поменять 2 строки в матрице"
   ]
  },
  {
   "cell_type": "code",
   "execution_count": 4,
   "metadata": {},
   "outputs": [
    {
     "data": {
      "text/plain": [
       "array([[3, 4, 5],\n",
       "       [0, 1, 2],\n",
       "       [6, 7, 8]])"
      ]
     },
     "execution_count": 4,
     "metadata": {},
     "output_type": "execute_result"
    }
   ],
   "source": [
    "result = np.arange(9).reshape(3,3)\n",
    "result[[0,1]] = result[[1,0]]\n",
    "result"
   ]
  },
  {
   "cell_type": "markdown",
   "metadata": {},
   "source": [
    "### Рассмотрим набор из 10 троек, описывающих 10 треугольников (с общими вершинами), найти множество уникальных отрезков, составляющих все треугольники"
   ]
  },
  {
   "cell_type": "code",
   "execution_count": 9,
   "metadata": {},
   "outputs": [
    {
     "data": {
      "text/plain": [
       "array([( 0,  4), ( 0,  6), ( 1, 13), ( 1, 19), ( 2,  3), ( 2, 10),\n",
       "       ( 2, 16), ( 2, 19), ( 3, 16), ( 3, 17), ( 3, 19), ( 4,  6),\n",
       "       ( 5, 11), ( 5, 13), ( 5, 16), ( 5, 18), ( 7, 14), ( 7, 19),\n",
       "       ( 8,  9), ( 8, 13), ( 8, 15), ( 9,  9), (10, 16), (11, 18),\n",
       "       (13, 15), (13, 16), (13, 19), (14, 19), (16, 17)],\n",
       "      dtype=[('point1', '<i4'), ('point2', '<i4')])"
      ]
     },
     "execution_count": 9,
     "metadata": {},
     "output_type": "execute_result"
    }
   ],
   "source": [
    "lines = np.random.randint(0,20,(10,3))\n",
    "result = np.roll(lines.repeat(2,axis=1),-1,axis=1)\n",
    "result = result.reshape(len(result)*3,2)\n",
    "result = np.sort(result,axis=1)\n",
    "result =result.view( dtype=[('point1',result.dtype),('point2',result.dtype)] )\n",
    "np.unique(result)"
   ]
  },
  {
   "cell_type": "markdown",
   "metadata": {},
   "source": [
    "### Дан массив C; создать массив A, что np.bincount(A) == C"
   ]
  },
  {
   "cell_type": "code",
   "execution_count": 9,
   "metadata": {},
   "outputs": [
    {
     "data": {
      "text/plain": [
       "array([0, 1, 1, 3])"
      ]
     },
     "execution_count": 9,
     "metadata": {},
     "output_type": "execute_result"
    }
   ],
   "source": [
    "np.repeat(np.arange(4), np.bincount([0,1,1,3]))"
   ]
  },
  {
   "cell_type": "markdown",
   "metadata": {},
   "source": [
    "### Посчитать среднее, используя плавающее окно"
   ]
  },
  {
   "cell_type": "code",
   "execution_count": 12,
   "metadata": {},
   "outputs": [
    {
     "data": {
      "text/plain": [
       "array([6.33333333, 6.        , 5.66666667])"
      ]
     },
     "execution_count": 12,
     "metadata": {},
     "output_type": "execute_result"
    }
   ],
   "source": [
    "result = np.cumsum(np.array([2,8,9,1,7]))\n",
    "result[3:] = result[3:] - result[:-3]\n",
    "result[2:] / 3"
   ]
  },
  {
   "cell_type": "markdown",
   "metadata": {},
   "source": [
    "### Дан вектор Z, построить матрицу, первая строка которой (Z[0],Z[1],Z[2]), каждая последующая сдвинута на 1 (последняя (Z[-3],Z[-2],Z[-1]))"
   ]
  },
  {
   "cell_type": "code",
   "execution_count": 15,
   "metadata": {},
   "outputs": [
    {
     "data": {
      "text/plain": [
       "(array([0, 1, 2, 3, 4]),\n",
       " array([[0, 1, 2],\n",
       "        [1, 2, 3],\n",
       "        [2, 3, 4]]))"
      ]
     },
     "execution_count": 15,
     "metadata": {},
     "output_type": "execute_result"
    }
   ],
   "source": [
    "from numpy.lib import stride_tricks\n",
    "\n",
    "array = np.arange(5)\n",
    "shape = (array.size - 2, 3)\n",
    "strides = (array.itemsize, array.itemsize)\n",
    "result = stride_tricks.as_strided(array, shape=shape, strides=strides)\n",
    "array, result"
   ]
  },
  {
   "cell_type": "markdown",
   "metadata": {},
   "source": [
    "### Инвертировать булево значение, или поменять знак у числового массива без создания нового"
   ]
  },
  {
   "cell_type": "code",
   "execution_count": 13,
   "metadata": {},
   "outputs": [
    {
     "name": "stdout",
     "output_type": "stream",
     "text": [
      "[0 1 1 0 0 1 1 0 1 0]\n",
      "[1 0 0 1 1 0 0 1 0 1]\n",
      "[-1  0  0 -1 -1  0  0 -1  0 -1]\n"
     ]
    }
   ],
   "source": [
    "result = np.random.randint(0,2,10)\n",
    "print(result)\n",
    "np.logical_not(result, out = result)\n",
    "print(result)\n",
    "np.negative(result, out=result)\n",
    "print(result)"
   ]
  },
  {
   "cell_type": "markdown",
   "metadata": {},
   "source": [
    "### Посчитать ранг матрицы"
   ]
  },
  {
   "cell_type": "code",
   "execution_count": 16,
   "metadata": {},
   "outputs": [
    {
     "name": "stdout",
     "output_type": "stream",
     "text": [
      "[[0.455993   0.33564443 0.19266998 0.43863519 0.73831655]\n",
      " [0.93853642 0.93828234 0.1044358  0.08426935 0.69345157]\n",
      " [0.79448072 0.32811582 0.93461105 0.35124973 0.87442352]\n",
      " [0.73072164 0.63872675 0.39351442 0.2977077  0.35885501]\n",
      " [0.19829942 0.88609373 0.26739514 0.51515423 0.25653774]]\n",
      "5\n"
     ]
    }
   ],
   "source": [
    "result = np.random.uniform(0,1,(5,5))\n",
    "print(result)\n",
    "rank = np.linalg.matrix_rank(result)\n",
    "print(rank)"
   ]
  },
  {
   "cell_type": "markdown",
   "metadata": {},
   "source": [
    "### Найти наиболее частое значение в массиве"
   ]
  },
  {
   "cell_type": "code",
   "execution_count": 19,
   "metadata": {},
   "outputs": [
    {
     "data": {
      "text/plain": [
       "1"
      ]
     },
     "execution_count": 19,
     "metadata": {},
     "output_type": "execute_result"
    }
   ],
   "source": [
    "np.bincount([0,1,1,3]).argmax()"
   ]
  },
  {
   "cell_type": "markdown",
   "metadata": {},
   "source": [
    "### Извлечь все смежные 3x3 блоки из 10x10 матрицы"
   ]
  },
  {
   "cell_type": "code",
   "execution_count": 20,
   "metadata": {},
   "outputs": [
    {
     "data": {
      "text/plain": [
       "array([[[[2, 3, 2],\n",
       "         [4, 2, 7],\n",
       "         [4, 1, 1]],\n",
       "\n",
       "        [[3, 2, 4],\n",
       "         [2, 7, 6],\n",
       "         [1, 1, 5]],\n",
       "\n",
       "        [[2, 4, 0],\n",
       "         [7, 6, 2],\n",
       "         [1, 5, 3]],\n",
       "\n",
       "        [[4, 0, 4],\n",
       "         [6, 2, 3],\n",
       "         [5, 3, 3]],\n",
       "\n",
       "        [[0, 4, 5],\n",
       "         [2, 3, 0],\n",
       "         [3, 3, 8]],\n",
       "\n",
       "        [[4, 5, 9],\n",
       "         [3, 0, 8],\n",
       "         [3, 8, 9]],\n",
       "\n",
       "        [[5, 9, 8],\n",
       "         [0, 8, 4],\n",
       "         [8, 9, 2]],\n",
       "\n",
       "        [[9, 8, 1],\n",
       "         [8, 4, 8],\n",
       "         [9, 2, 7]]],\n",
       "\n",
       "\n",
       "       [[[4, 2, 7],\n",
       "         [4, 1, 1],\n",
       "         [4, 9, 4]],\n",
       "\n",
       "        [[2, 7, 6],\n",
       "         [1, 1, 5],\n",
       "         [9, 4, 3]],\n",
       "\n",
       "        [[7, 6, 2],\n",
       "         [1, 5, 3],\n",
       "         [4, 3, 4]],\n",
       "\n",
       "        [[6, 2, 3],\n",
       "         [5, 3, 3],\n",
       "         [3, 4, 0]],\n",
       "\n",
       "        [[2, 3, 0],\n",
       "         [3, 3, 8],\n",
       "         [4, 0, 5]],\n",
       "\n",
       "        [[3, 0, 8],\n",
       "         [3, 8, 9],\n",
       "         [0, 5, 7]],\n",
       "\n",
       "        [[0, 8, 4],\n",
       "         [8, 9, 2],\n",
       "         [5, 7, 3]],\n",
       "\n",
       "        [[8, 4, 8],\n",
       "         [9, 2, 7],\n",
       "         [7, 3, 1]]],\n",
       "\n",
       "\n",
       "       [[[4, 1, 1],\n",
       "         [4, 9, 4],\n",
       "         [4, 8, 7]],\n",
       "\n",
       "        [[1, 1, 5],\n",
       "         [9, 4, 3],\n",
       "         [8, 7, 2]],\n",
       "\n",
       "        [[1, 5, 3],\n",
       "         [4, 3, 4],\n",
       "         [7, 2, 8]],\n",
       "\n",
       "        [[5, 3, 3],\n",
       "         [3, 4, 0],\n",
       "         [2, 8, 3]],\n",
       "\n",
       "        [[3, 3, 8],\n",
       "         [4, 0, 5],\n",
       "         [8, 3, 3]],\n",
       "\n",
       "        [[3, 8, 9],\n",
       "         [0, 5, 7],\n",
       "         [3, 3, 8]],\n",
       "\n",
       "        [[8, 9, 2],\n",
       "         [5, 7, 3],\n",
       "         [3, 8, 3]],\n",
       "\n",
       "        [[9, 2, 7],\n",
       "         [7, 3, 1],\n",
       "         [8, 3, 8]]],\n",
       "\n",
       "\n",
       "       [[[4, 9, 4],\n",
       "         [4, 8, 7],\n",
       "         [5, 2, 9]],\n",
       "\n",
       "        [[9, 4, 3],\n",
       "         [8, 7, 2],\n",
       "         [2, 9, 9]],\n",
       "\n",
       "        [[4, 3, 4],\n",
       "         [7, 2, 8],\n",
       "         [9, 9, 8]],\n",
       "\n",
       "        [[3, 4, 0],\n",
       "         [2, 8, 3],\n",
       "         [9, 8, 3]],\n",
       "\n",
       "        [[4, 0, 5],\n",
       "         [8, 3, 3],\n",
       "         [8, 3, 4]],\n",
       "\n",
       "        [[0, 5, 7],\n",
       "         [3, 3, 8],\n",
       "         [3, 4, 0]],\n",
       "\n",
       "        [[5, 7, 3],\n",
       "         [3, 8, 3],\n",
       "         [4, 0, 6]],\n",
       "\n",
       "        [[7, 3, 1],\n",
       "         [8, 3, 8],\n",
       "         [0, 6, 1]]],\n",
       "\n",
       "\n",
       "       [[[4, 8, 7],\n",
       "         [5, 2, 9],\n",
       "         [2, 7, 9]],\n",
       "\n",
       "        [[8, 7, 2],\n",
       "         [2, 9, 9],\n",
       "         [7, 9, 1]],\n",
       "\n",
       "        [[7, 2, 8],\n",
       "         [9, 9, 8],\n",
       "         [9, 1, 0]],\n",
       "\n",
       "        [[2, 8, 3],\n",
       "         [9, 8, 3],\n",
       "         [1, 0, 0]],\n",
       "\n",
       "        [[8, 3, 3],\n",
       "         [8, 3, 4],\n",
       "         [0, 0, 0]],\n",
       "\n",
       "        [[3, 3, 8],\n",
       "         [3, 4, 0],\n",
       "         [0, 0, 5]],\n",
       "\n",
       "        [[3, 8, 3],\n",
       "         [4, 0, 6],\n",
       "         [0, 5, 9]],\n",
       "\n",
       "        [[8, 3, 8],\n",
       "         [0, 6, 1],\n",
       "         [5, 9, 0]]],\n",
       "\n",
       "\n",
       "       [[[5, 2, 9],\n",
       "         [2, 7, 9],\n",
       "         [1, 1, 2]],\n",
       "\n",
       "        [[2, 9, 9],\n",
       "         [7, 9, 1],\n",
       "         [1, 2, 8]],\n",
       "\n",
       "        [[9, 9, 8],\n",
       "         [9, 1, 0],\n",
       "         [2, 8, 4]],\n",
       "\n",
       "        [[9, 8, 3],\n",
       "         [1, 0, 0],\n",
       "         [8, 4, 3]],\n",
       "\n",
       "        [[8, 3, 4],\n",
       "         [0, 0, 0],\n",
       "         [4, 3, 3]],\n",
       "\n",
       "        [[3, 4, 0],\n",
       "         [0, 0, 5],\n",
       "         [3, 3, 8]],\n",
       "\n",
       "        [[4, 0, 6],\n",
       "         [0, 5, 9],\n",
       "         [3, 8, 7]],\n",
       "\n",
       "        [[0, 6, 1],\n",
       "         [5, 9, 0],\n",
       "         [8, 7, 1]]],\n",
       "\n",
       "\n",
       "       [[[2, 7, 9],\n",
       "         [1, 1, 2],\n",
       "         [9, 9, 8]],\n",
       "\n",
       "        [[7, 9, 1],\n",
       "         [1, 2, 8],\n",
       "         [9, 8, 8]],\n",
       "\n",
       "        [[9, 1, 0],\n",
       "         [2, 8, 4],\n",
       "         [8, 8, 2]],\n",
       "\n",
       "        [[1, 0, 0],\n",
       "         [8, 4, 3],\n",
       "         [8, 2, 6]],\n",
       "\n",
       "        [[0, 0, 0],\n",
       "         [4, 3, 3],\n",
       "         [2, 6, 2]],\n",
       "\n",
       "        [[0, 0, 5],\n",
       "         [3, 3, 8],\n",
       "         [6, 2, 4]],\n",
       "\n",
       "        [[0, 5, 9],\n",
       "         [3, 8, 7],\n",
       "         [2, 4, 6]],\n",
       "\n",
       "        [[5, 9, 0],\n",
       "         [8, 7, 1],\n",
       "         [4, 6, 9]]],\n",
       "\n",
       "\n",
       "       [[[1, 1, 2],\n",
       "         [9, 9, 8],\n",
       "         [2, 1, 7]],\n",
       "\n",
       "        [[1, 2, 8],\n",
       "         [9, 8, 8],\n",
       "         [1, 7, 2]],\n",
       "\n",
       "        [[2, 8, 4],\n",
       "         [8, 8, 2],\n",
       "         [7, 2, 3]],\n",
       "\n",
       "        [[8, 4, 3],\n",
       "         [8, 2, 6],\n",
       "         [2, 3, 8]],\n",
       "\n",
       "        [[4, 3, 3],\n",
       "         [2, 6, 2],\n",
       "         [3, 8, 3]],\n",
       "\n",
       "        [[3, 3, 8],\n",
       "         [6, 2, 4],\n",
       "         [8, 3, 7]],\n",
       "\n",
       "        [[3, 8, 7],\n",
       "         [2, 4, 6],\n",
       "         [3, 7, 1]],\n",
       "\n",
       "        [[8, 7, 1],\n",
       "         [4, 6, 9],\n",
       "         [7, 1, 4]]]])"
      ]
     },
     "execution_count": 20,
     "metadata": {},
     "output_type": "execute_result"
    }
   ],
   "source": [
    "from numpy.lib import stride_tricks\n",
    "\n",
    "array = np.random.randint(0,10,(10,10))\n",
    "i = 1 + (array.shape[0] - 3)\n",
    "j = 1 + (array.shape[1] - 3)\n",
    "result = stride_tricks.as_strided(array, shape=(i, j, 3, 3), strides=array.strides + array.strides)\n",
    "result"
   ]
  },
  {
   "cell_type": "markdown",
   "metadata": {},
   "source": [
    "### Рассмотрим множество матриц (n,n) и множество из p векторов (n,1). Посчитать сумму p произведений матриц (результат имеет размерность (n,1))"
   ]
  },
  {
   "cell_type": "code",
   "execution_count": null,
   "metadata": {},
   "outputs": [],
   "source": [
    "#np.tensordot"
   ]
  },
  {
   "cell_type": "markdown",
   "metadata": {},
   "source": [
    "### Дан массив 16x16, посчитать сумму по блокам 4x4"
   ]
  },
  {
   "cell_type": "code",
   "execution_count": 23,
   "metadata": {},
   "outputs": [
    {
     "data": {
      "text/plain": [
       "array([[62, 78, 77, 60],\n",
       "       [54, 61, 52, 67],\n",
       "       [68, 87, 75, 76],\n",
       "       [67, 75, 62, 72]], dtype=int32)"
      ]
     },
     "execution_count": 23,
     "metadata": {},
     "output_type": "execute_result"
    }
   ],
   "source": [
    "array = np.random.randint(0,10,(16,16))\n",
    "result = np.add.reduceat(np.add.reduceat(array, np.arange(0, array.shape[0], 4), axis=0), np.arange(0, array.shape[1], 4), axis=1)\n",
    "result"
   ]
  },
  {
   "cell_type": "markdown",
   "metadata": {},
   "source": [
    "### Найти n наибольших значений в массиве"
   ]
  },
  {
   "cell_type": "code",
   "execution_count": 24,
   "metadata": {},
   "outputs": [
    {
     "data": {
      "text/plain": [
       "array([9, 8, 7])"
      ]
     },
     "execution_count": 24,
     "metadata": {},
     "output_type": "execute_result"
    }
   ],
   "source": [
    "np.sort(np.arange(10))[::-1][:3]"
   ]
  },
  {
   "cell_type": "markdown",
   "metadata": {},
   "source": [
    "### Построить прямое произведение массивов (все комбинации с каждым элементом)"
   ]
  },
  {
   "cell_type": "code",
   "execution_count": 41,
   "metadata": {},
   "outputs": [
    {
     "data": {
      "text/plain": [
       "[4, 5, 6, 8, 10, 12, 12, 15, 18]"
      ]
     },
     "execution_count": 41,
     "metadata": {},
     "output_type": "execute_result"
    }
   ],
   "source": [
    "result = [i * j for j in [1, 2, 3] for i in [4, 5, 6]]\n",
    "result"
   ]
  },
  {
   "cell_type": "markdown",
   "metadata": {},
   "source": [
    "### Даны 2 массива A (8x3) и B (2x2). Найти строки в A, которые содержат элементы из каждой строки в B, независимо от порядка элементов в B"
   ]
  },
  {
   "cell_type": "code",
   "execution_count": 31,
   "metadata": {},
   "outputs": [
    {
     "name": "stdout",
     "output_type": "stream",
     "text": [
      "[2 2 7]\n"
     ]
    }
   ],
   "source": [
    "array_a = np.random.randint(0,10,(8,3))\n",
    "array_b = np.random.randint(0,10,(2,2))\n",
    "\n",
    "for row in array_a:\n",
    "    if all(item in array_b for item in row):\n",
    "        print(row)"
   ]
  },
  {
   "cell_type": "markdown",
   "metadata": {},
   "source": [
    "### Дана 10x3 матрица, найти строки из неравных значений (например [2,2,3])"
   ]
  },
  {
   "cell_type": "code",
   "execution_count": 34,
   "metadata": {},
   "outputs": [
    {
     "name": "stdout",
     "output_type": "stream",
     "text": [
      "[4 4 3]\n",
      "[3 0 3]\n",
      "[1 0 0]\n",
      "[4 4 2]\n",
      "[0 2 0]\n",
      "[3 4 4]\n",
      "[0 3 3]\n"
     ]
    }
   ],
   "source": [
    "array = np.random.randint(0,5,(10,3))\n",
    "for row in array:\n",
    "    flag = False\n",
    "    for j in row:\n",
    "        if row.tolist().count(j) > 1:\n",
    "            flag = True\n",
    "    if flag:\n",
    "        print(row)"
   ]
  },
  {
   "cell_type": "markdown",
   "metadata": {},
   "source": [
    "### Преобразовать вектор чисел в матрицу бинарных представлений"
   ]
  },
  {
   "cell_type": "code",
   "execution_count": 35,
   "metadata": {},
   "outputs": [
    {
     "data": {
      "text/plain": [
       "array([[0, 0, 0, 0, 0, 0, 0, 0],\n",
       "       [0, 0, 0, 0, 0, 0, 1, 0],\n",
       "       [0, 1, 0, 0, 0, 0, 0, 0],\n",
       "       [0, 1, 1, 0, 0, 1, 0, 1]], dtype=uint8)"
      ]
     },
     "execution_count": 35,
     "metadata": {},
     "output_type": "execute_result"
    }
   ],
   "source": [
    "np.unpackbits(np.array([0, 2, 64, 101], dtype=np.uint8)[:, np.newaxis], axis=1)"
   ]
  },
  {
   "cell_type": "markdown",
   "metadata": {},
   "source": [
    "### Дан двумерный массив. Найти все различные строки"
   ]
  },
  {
   "cell_type": "code",
   "execution_count": 36,
   "metadata": {},
   "outputs": [
    {
     "data": {
      "text/plain": [
       "array([[1, 1, 1, 2, 3],\n",
       "       [0, 0, 3, 1, 2],\n",
       "       [1, 4, 3, 0, 4],\n",
       "       [1, 2, 3, 3, 1],\n",
       "       [4, 1, 3, 0, 2]])"
      ]
     },
     "execution_count": 36,
     "metadata": {},
     "output_type": "execute_result"
    }
   ],
   "source": [
    "array = np.random.randint(0, 5, (5,5))\n",
    "np.unique(array, axis=1)"
   ]
  },
  {
   "cell_type": "markdown",
   "metadata": {},
   "source": [
    "### Даны векторы A и B, написать einsum эквиваленты функций inner, outer, sum и mul"
   ]
  },
  {
   "cell_type": "code",
   "execution_count": 37,
   "metadata": {},
   "outputs": [
    {
     "data": {
      "text/plain": [
       "285"
      ]
     },
     "execution_count": 37,
     "metadata": {},
     "output_type": "execute_result"
    }
   ],
   "source": [
    "A = np.arange(10)\n",
    "B = np.arange(10)\n",
    "\n",
    "np.einsum('i->', A) # sum\n",
    "np.einsum('i,i->i', A, B) # mul\n",
    "np.einsum('i,j', A, B) # outer\n",
    "np.einsum('i,i', A, B) # inner"
   ]
  },
  {
   "cell_type": "code",
   "execution_count": null,
   "metadata": {},
   "outputs": [],
   "source": []
  }
 ],
 "metadata": {
  "kernelspec": {
   "display_name": "Python 3",
   "language": "python",
   "name": "python3"
  },
  "language_info": {
   "codemirror_mode": {
    "name": "ipython",
    "version": 3
   },
   "file_extension": ".py",
   "mimetype": "text/x-python",
   "name": "python",
   "nbconvert_exporter": "python",
   "pygments_lexer": "ipython3",
   "version": "3.8.3"
  }
 },
 "nbformat": 4,
 "nbformat_minor": 4
}
